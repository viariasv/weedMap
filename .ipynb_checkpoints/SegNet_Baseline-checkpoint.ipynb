{
 "cells": [
  {
   "cell_type": "code",
   "execution_count": 46,
   "metadata": {},
   "outputs": [],
   "source": [
    "# import the basic libraries\n",
    "import os\n",
    "import re\n",
    "import cv2\n",
    "import glob\n",
    "import shutil\n",
    "import random\n",
    "import numpy as np\n",
    "from shutil import copyfile\n",
    "import matplotlib.pyplot as plt\n",
    "from sklearn.model_selection import train_test_split\n",
    "\n",
    "%matplotlib inline "
   ]
  },
  {
   "cell_type": "code",
   "execution_count": 5,
   "metadata": {},
   "outputs": [],
   "source": [
    "import matplotlib\n",
    "matplotlib.rcParams[\"figure.figsize\"] = (8.0, 6.0)\n",
    "matplotlib.rcParams[\"image.cmap\"] = \"gray\""
   ]
  },
  {
   "cell_type": "code",
   "execution_count": 36,
   "metadata": {},
   "outputs": [],
   "source": [
    "# Load the neccesary paths\n",
    "from DATA_PATH import RED_EDGE_DICT_PATHS\n",
    "INPUT_DATAPATH = RED_EDGE_DICT_PATHS[\"RED_EDGE_INPUT_PATH\"]\n",
    "OUTPUT_DATAPATH = RED_EDGE_DICT_PATHS[\"RED_EDGE_OUTPUT_PATH_3CH\"]\n",
    "\n",
    "# LIST ORTHOMOSAIC MAPS CONVENTION\n",
    "LIST_ORTHO_TRAIN  = [\"000\", \"001\", \"002\", \"004\"]\n",
    "LIST_ORTHO_TEST = [\"003\"]"
   ]
  },
  {
   "cell_type": "code",
   "execution_count": 63,
   "metadata": {},
   "outputs": [],
   "source": [
    "def orderListPaths(paths):\n",
    "    paths.sort(key=lambda var:[int(x) if x.isdigit() else x \n",
    "                                for x in re.findall(r'[^0-9]|[0-9]+', var)])\n",
    "    return paths\n",
    "\n",
    "\n",
    "def join_paths(LIST_ORTHO):\n",
    "    \n",
    "    images = list() \n",
    "    labels = list()\n",
    "    \n",
    "    for ortho_folder in LIST_ORTHO:\n",
    "        # read an orthomosaic folder and extract the tiles and the labels.\n",
    "        groundtruth_paths_n = list(glob.glob(\n",
    "            os.path.join(INPUT_DATAPATH,\n",
    "                         ortho_folder, \n",
    "                         \"groundtruth\", \n",
    "                         \"*GroundTruth_color.png\")\n",
    "        ))\n",
    "\n",
    "        tiles_paths_n = list(glob.glob(\n",
    "            os.path.join(INPUT_DATAPATH, \n",
    "                         ortho_folder, \n",
    "                         \"tile/CIR\", \n",
    "                         \"*.png\")        \n",
    "        ))\n",
    "\n",
    "        # order the lists\n",
    "        groundtruth_paths_n = orderListPaths(groundtruth_paths_n)\n",
    "        tiles_paths_n = orderListPaths(tiles_paths_n)\n",
    "\n",
    "        # concatenate the lists\n",
    "        images += tiles_paths_n\n",
    "        labels += groundtruth_paths_n\n",
    "    \n",
    "    return images, labels\n",
    "    \n",
    "        \n",
    "TRAIN_IMAGES_FULL, TRAIN_LABELS_FULL = join_paths(LIST_ORTHO_TRAIN)\n",
    "X_TEST, Y_TEST = join_paths(LIST_ORTHO_TEST)\n",
    "\n",
    "X_TRAIN, X_VAL, Y_TRAIN, Y_VAL = train_test_split(TRAIN_IMAGES_FULL, TRAIN_LABELS_FULL, test_size=0.2, random_state=42)"
   ]
  },
  {
   "cell_type": "code",
   "execution_count": 64,
   "metadata": {},
   "outputs": [],
   "source": [
    "ID = 0\n",
    "def save_data(images, labels, folder = \"train\"):\n",
    "     for i in range(len(images)):\n",
    "        image = cv2.imread(images[i],cv2.IMREAD_COLOR)\n",
    "        \n",
    "        if list(np.unique(image)) != [0]:\n",
    "            copyfile(images[i], os.path.join(OUTPUT_DATAPATH, folder, \"images\", \"frame_\" + str(ID) + \".png\"))\n",
    "            copyfile(labels[i], os.path.join(OUTPUT_DATAPATH, folder, \"labels\",  \"label_\" + str(ID) + \".png\"))\n",
    "            ID += 1\n",
    "\n",
    "    \n",
    "save_data(X_TRAIN, Y_TRAIN)\n",
    "save_data(X_VAL, Y_VAL, folder=\"val\")\n",
    "save_data(X_TEST, Y_TEST, folder=\"test\")"
   ]
  },
  {
   "cell_type": "code",
   "execution_count": null,
   "metadata": {},
   "outputs": [],
   "source": []
  },
  {
   "cell_type": "code",
   "execution_count": null,
   "metadata": {},
   "outputs": [],
   "source": []
  },
  {
   "cell_type": "code",
   "execution_count": null,
   "metadata": {},
   "outputs": [],
   "source": []
  },
  {
   "cell_type": "code",
   "execution_count": null,
   "metadata": {},
   "outputs": [],
   "source": []
  },
  {
   "cell_type": "code",
   "execution_count": null,
   "metadata": {},
   "outputs": [],
   "source": []
  },
  {
   "cell_type": "code",
   "execution_count": null,
   "metadata": {},
   "outputs": [],
   "source": []
  }
 ],
 "metadata": {
  "kernelspec": {
   "display_name": "Python 3",
   "language": "python",
   "name": "python3"
  },
  "language_info": {
   "codemirror_mode": {
    "name": "ipython",
    "version": 3
   },
   "file_extension": ".py",
   "mimetype": "text/x-python",
   "name": "python",
   "nbconvert_exporter": "python",
   "pygments_lexer": "ipython3",
   "version": "3.7.5"
  }
 },
 "nbformat": 4,
 "nbformat_minor": 2
}
